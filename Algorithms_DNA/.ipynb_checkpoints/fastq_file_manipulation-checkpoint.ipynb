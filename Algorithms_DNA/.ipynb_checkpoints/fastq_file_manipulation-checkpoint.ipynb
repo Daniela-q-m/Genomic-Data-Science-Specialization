{
 "cells": [
  {
   "cell_type": "markdown",
   "id": "62cb96af",
   "metadata": {},
   "source": [
    "The purpose of this notebook is to manipulate fastq files using python. The fastq file used in this example was downloaded from SRA (Sequence Read Archive) and it represents run SRR14145847 from PRJNA719824\tproject. "
   ]
  },
  {
   "cell_type": "code",
   "execution_count": 5,
   "id": "a0b7529b",
   "metadata": {},
   "outputs": [],
   "source": [
    "def readFASTQ(filename):\n",
    "    sequences=[]\n",
    "    base_quals=[]\n",
    "    with open(filename) as handle:\n",
    "        while True: #break when reaching end of the file, reading every 4 lines\n",
    "            handle.readline()\n",
    "            seq=handle.readline().rstrip() #second line is sequence\n",
    "            handle.readline() #third line is a + sign, no need to store\n",
    "            quality=handle.readline().rstrip() #Next, check if end of file has been reached\n",
    "            if len(seq)==0:\n",
    "                break\n",
    "            #If still in the file, append values to list\n",
    "            sequences.append(seq)\n",
    "            base_quals.append(quality)\n",
    "    return sequences, base_quals"
   ]
  },
  {
   "cell_type": "code",
   "execution_count": 9,
   "id": "3310a4c6",
   "metadata": {},
   "outputs": [],
   "source": [
    "#Apply function to downloaded FASTQ\n",
    "\n",
    "seqs, quals=readFASTQ('/Users/danielaquijano/Documents/GitHub/Genomic-Data-Science-Specialization/Algorithms_DNA/Source_Files/sra_data.fastq')"
   ]
  },
  {
   "cell_type": "code",
   "execution_count": 12,
   "id": "b4ab1150",
   "metadata": {},
   "outputs": [
    {
     "name": "stdout",
     "output_type": "stream",
     "text": [
      "2294533.25\n"
     ]
    }
   ],
   "source": [
    "count=0\n",
    "with open('/Users/danielaquijano/Documents/GitHub/Genomic-Data-Science-Specialization/Algorithms_DNA/Source_Files/sra_data.fastq') as fastq_file:\n",
    "    for line in fastq_file:\n",
    "        count=count+1 #Count the number of lines in the file, divide by 4 since each read has 4 descriptive lines\n",
    "    \n",
    "print(str(count/4)) #This makes sense given that the file has 2.3M reads according to SRA\n",
    "    "
   ]
  },
  {
   "cell_type": "code",
   "execution_count": 13,
   "id": "eac5796e",
   "metadata": {},
   "outputs": [
    {
     "name": "stdout",
     "output_type": "stream",
     "text": [
      "['AGTTTNTTCTGTTTTCACATCTAGGTTGTTGGGGAGAGTGATAGACAAAGTTCTGGATTCTGGGCATCGTCGGCGCATGCTTGT', 'GTTTANTGTATCTGGTTTCTACATGGAAGACTAAACTCATGCTTATTGCTAAATGTGGTCTTTGCCAACTAAATTTAAGATGCA', 'ATACANCACCTTCATTCTTCCACAGGGCAGAAAGGTGTTCGCGGGCACTGGTGGGTGTTAAGTATCCTCGTTTTCCTATCTGAG', 'GTACTNGTCGTAGATGGCTGCCCGCCGCTCGGGGTCCTCGGGGTGCAGCTGGGGGTCCTGCCGGGCAAGCCGCAGCAGCATCCC', 'GGCTGNAGTACAGTGGCTCTATCTTGGCTCACTGCGAGCTCCGCCTCCCGGGTTCACGCAGTTCTCCTGCCTCAGCCTGCCGAG']\n"
     ]
    }
   ],
   "source": [
    "print(seqs[0:5]) #Print first 5 sequences"
   ]
  },
  {
   "cell_type": "code",
   "execution_count": 14,
   "id": "f9f54c2b",
   "metadata": {},
   "outputs": [
    {
     "name": "stdout",
     "output_type": "stream",
     "text": [
      "['AAAAA#EEEEEEEEEEEEEEEEEEE6EEEEEEEEEEEEAEEEEEEEEEEEEEEEEE6EEEEEEEEEEEEEEEEEEEE<AEEEEE', '/AAAA#EEEEEEAEEEEEEEEEEEEEEEEEEEEEEEEEEEEEEEEEEEEE6AEEEEEEEEEEEEEEEEEE/EAEEEEAE<EEEA', 'AAAAA#EEEEEEEEEEEEEEEEEEEEEEEEEEEEEAEEEEEEEEEEEEEEEEEEEEEEEEEEEEEEEEEEEEEEEEEEEEEE/E', 'A/AAA#EEEEEEE6EEEAEEEEAAEAEE/EEEEEAEAEEEEEE6EEAEEEEEEEEEEEEEEEEEEE//EEEEEEEEEEEEAEEE', 'AAAAA#AEEAEEEEEEEEEEEEEEEEEEEEAEEEEEEEEEEEEEEEEEEEEEEEEEEEA/E/EEAEEEEEEEEEEEEEEEEE6E']\n"
     ]
    }
   ],
   "source": [
    "print(quals[0:5]) #Print first 5 qualities"
   ]
  },
  {
   "cell_type": "markdown",
   "id": "752a1c2f",
   "metadata": {},
   "source": [
    "Convert ASCII symbols to base quality scores. Generally, any non-alphabetical symbols represent lower base quality scores. As seen above, the first 5 qualities seem to be generally good since tere are no non-alphabetic characters indicating qualities are good. "
   ]
  },
  {
   "cell_type": "code",
   "execution_count": 16,
   "id": "372d4c6d",
   "metadata": {},
   "outputs": [],
   "source": [
    "def phred33Q(qual):\n",
    "    return ord(qual)-33 #Convert ASCII character to a number, subtract 33"
   ]
  },
  {
   "cell_type": "code",
   "execution_count": 21,
   "id": "18589212",
   "metadata": {},
   "outputs": [
    {
     "data": {
      "text/plain": [
       "13"
      ]
     },
     "execution_count": 21,
     "metadata": {},
     "output_type": "execute_result"
    }
   ],
   "source": [
    "phred33Q('.')"
   ]
  },
  {
   "cell_type": "code",
   "execution_count": 22,
   "id": "0b7d8118",
   "metadata": {},
   "outputs": [
    {
     "data": {
      "text/plain": [
       "3"
      ]
     },
     "execution_count": 22,
     "metadata": {},
     "output_type": "execute_result"
    }
   ],
   "source": [
    "phred33Q('$')"
   ]
  },
  {
   "cell_type": "markdown",
   "id": "d0ab9792",
   "metadata": {},
   "source": [
    "Create histogram of base quality scores"
   ]
  },
  {
   "cell_type": "code",
   "execution_count": 24,
   "id": "0d31c814",
   "metadata": {},
   "outputs": [
    {
     "name": "stdout",
     "output_type": "stream",
     "text": [
      "[0, 0, 1, 0, 0, 0, 0, 0, 0, 0, 0, 0, 0, 0, 0, 0, 0, 0, 0, 0, 0, 2, 0, 0, 0, 0, 0, 1, 0, 0, 0, 0, 7, 0, 0, 0, 73, 0, 0, 0, 0, 0, 0, 0, 0, 0, 0, 0, 0, 0]\n"
     ]
    }
   ],
   "source": [
    "def qualHist(qualities):\n",
    "    hist=[0]*50\n",
    "    for quality in qualities:\n",
    "        for phred in quality:\n",
    "            q=phred33Q(phred)\n",
    "            hist[q]+=1\n",
    "        return hist\n",
    "h=qualHist(quals)\n",
    "print(h)"
   ]
  },
  {
   "cell_type": "markdown",
   "id": "be98dd0b",
   "metadata": {},
   "source": [
    "Graph Histogram with  matplotlib. It seems that most base qualities in this FASTQ file are great with most of the qualities being above 30. "
   ]
  },
  {
   "cell_type": "code",
   "execution_count": 27,
   "id": "1c25c586",
   "metadata": {},
   "outputs": [
    {
     "data": {
      "image/png": "[encoded data removed]",
      "text/plain": [
       "<Figure size 432x288 with 1 Axes>"
      ]
     },
     "metadata": {
      "needs_background": "light"
     },
     "output_type": "display_data"
    }
   ],
   "source": [
    "%matplotlib inline\n",
    "import matplotlib.pyplot as plt\n",
    "plt.bar(range(len(h)),h)\n",
    "plt.show()"
   ]
  },
  {
   "cell_type": "markdown",
   "id": "ea2e2079",
   "metadata": {},
   "source": [
    "Plotting the GC content at each position in the reads. GC content is a measure to figure out whether the mix of diffrent bases is changing along various bases of the reads."
   ]
  },
  {
   "cell_type": "code",
   "execution_count": 37,
   "id": "4af95c15",
   "metadata": {},
   "outputs": [],
   "source": [
    "def GC_position(reads):\n",
    "    gc_seen=[0]*100 #Keep track of GC bases and total number of bases\n",
    "    totals=[0]*100 \n",
    "    for read in reads: #loop through each read and each base\n",
    "        for i in range(len(read)):\n",
    "            if read[i]=='C' or read[i]=='G':\n",
    "                gc_seen[i]+=1\n",
    "                totals[i]+=1\n",
    "        for i in range(len(gc_seen)):\n",
    "            if totals[i]>0: #Make sure totals is not equal to zero to avoid errors\n",
    "                gc_seen[i]/= float(totals[i])\n",
    "        return(gc_seen)\n",
    "    "
   ]
  },
  {
   "cell_type": "code",
   "execution_count": 40,
   "id": "d5bd529c",
   "metadata": {},
   "outputs": [],
   "source": [
    "gc=GC_position(seqs)"
   ]
  },
  {
   "cell_type": "code",
   "execution_count": 43,
   "id": "fbce0f28",
   "metadata": {},
   "outputs": [
    {
     "data": {
      "image/png": "[encoded data removed]",
      "text/plain": [
       "<Figure size 432x288 with 1 Axes>"
      ]
     },
     "metadata": {
      "needs_background": "light"
     },
     "output_type": "display_data"
    }
   ],
   "source": [
    "plt.plot(range(len(gc)),gc)\n",
    "plt.show()"
   ]
  },
  {
   "cell_type": "code",
   "execution_count": 44,
   "id": "50f4a1e3",
   "metadata": {},
   "outputs": [
    {
     "name": "stdout",
     "output_type": "stream",
     "text": [
      "Counter({'T': 55188667, 'A': 52761790, 'C': 42597241, 'G': 42190755, 'N': 2319})\n"
     ]
    }
   ],
   "source": [
    "#Count Nucleotides\n",
    "import collections\n",
    "count=collections.Counter()\n",
    "for seq in seqs:\n",
    "    count.update(seq)\n",
    "print(count)"
   ]
  }
 ],
 "metadata": {
  "kernelspec": {
   "display_name": "Python 3 (ipykernel)",
   "language": "python",
   "name": "python3"
  },
  "language_info": {
   "codemirror_mode": {
    "name": "ipython",
    "version": 3
   },
   "file_extension": ".py",
   "mimetype": "text/x-python",
   "name": "python",
   "nbconvert_exporter": "python",
   "pygments_lexer": "ipython3",
   "version": "3.9.12"
  }
 },
 "nbformat": 4,
 "nbformat_minor": 5
}
